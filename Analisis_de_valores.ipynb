{
 "cells": [
  {
   "cell_type": "code",
   "execution_count": 1,
   "metadata": {},
   "outputs": [],
   "source": [
    "import pandas as pd\n",
    "import numpy as np"
   ]
  },
  {
   "cell_type": "code",
   "execution_count": 2,
   "metadata": {},
   "outputs": [
    {
     "data": {
      "text/html": [
       "<div>\n",
       "<style scoped>\n",
       "    .dataframe tbody tr th:only-of-type {\n",
       "        vertical-align: middle;\n",
       "    }\n",
       "\n",
       "    .dataframe tbody tr th {\n",
       "        vertical-align: top;\n",
       "    }\n",
       "\n",
       "    .dataframe thead th {\n",
       "        text-align: right;\n",
       "    }\n",
       "</style>\n",
       "<table border=\"1\" class=\"dataframe\">\n",
       "  <thead>\n",
       "    <tr style=\"text-align: right;\">\n",
       "      <th></th>\n",
       "      <th>ID</th>\n",
       "      <th>Region</th>\n",
       "      <th>Territory</th>\n",
       "      <th>Pricing, Delivery_Terms_Quote_Appr</th>\n",
       "      <th>Pricing, Delivery_Terms_Approved</th>\n",
       "      <th>Bureaucratic_Code_0_Approval</th>\n",
       "      <th>Bureaucratic_Code_0_Approved</th>\n",
       "      <th>Submitted_for_Approval</th>\n",
       "      <th>Bureaucratic_Code</th>\n",
       "      <th>Account_Created_Date</th>\n",
       "      <th>...</th>\n",
       "      <th>Delivery_Quarter</th>\n",
       "      <th>Delivery_Year</th>\n",
       "      <th>Actual_Delivery_Date</th>\n",
       "      <th>TRF</th>\n",
       "      <th>Total_Amount_Currency</th>\n",
       "      <th>Total_Amount</th>\n",
       "      <th>Total_Taxable_Amount_Currency</th>\n",
       "      <th>Total_Taxable_Amount</th>\n",
       "      <th>Stage</th>\n",
       "      <th>Prod_Category_A</th>\n",
       "    </tr>\n",
       "  </thead>\n",
       "  <tbody>\n",
       "    <tr>\n",
       "      <th>0</th>\n",
       "      <td>27761</td>\n",
       "      <td>EMEA</td>\n",
       "      <td>None</td>\n",
       "      <td>1</td>\n",
       "      <td>True</td>\n",
       "      <td>True</td>\n",
       "      <td>True</td>\n",
       "      <td>False</td>\n",
       "      <td>Bureaucratic_Code_4</td>\n",
       "      <td>6/16/2015</td>\n",
       "      <td>...</td>\n",
       "      <td>Q2</td>\n",
       "      <td>2016</td>\n",
       "      <td>NaT</td>\n",
       "      <td>10</td>\n",
       "      <td>EUR</td>\n",
       "      <td>5272800.0</td>\n",
       "      <td>EUR</td>\n",
       "      <td>5272800.0</td>\n",
       "      <td>Closed Lost</td>\n",
       "      <td>Prod_Category_A_None</td>\n",
       "    </tr>\n",
       "    <tr>\n",
       "      <th>1</th>\n",
       "      <td>27760</td>\n",
       "      <td>EMEA</td>\n",
       "      <td>None</td>\n",
       "      <td>0</td>\n",
       "      <td>False</td>\n",
       "      <td>False</td>\n",
       "      <td>False</td>\n",
       "      <td>False</td>\n",
       "      <td>Bureaucratic_Code_4</td>\n",
       "      <td>6/16/2015</td>\n",
       "      <td>...</td>\n",
       "      <td>Q1</td>\n",
       "      <td>2016</td>\n",
       "      <td>NaT</td>\n",
       "      <td>0</td>\n",
       "      <td>EUR</td>\n",
       "      <td>48230.0</td>\n",
       "      <td>EUR</td>\n",
       "      <td>48230.0</td>\n",
       "      <td>Closed Won</td>\n",
       "      <td>Prod_Category_A_None</td>\n",
       "    </tr>\n",
       "    <tr>\n",
       "      <th>2</th>\n",
       "      <td>27446</td>\n",
       "      <td>Americas</td>\n",
       "      <td>NW America</td>\n",
       "      <td>0</td>\n",
       "      <td>False</td>\n",
       "      <td>False</td>\n",
       "      <td>False</td>\n",
       "      <td>False</td>\n",
       "      <td>Bureaucratic_Code_4</td>\n",
       "      <td>4/21/2015</td>\n",
       "      <td>...</td>\n",
       "      <td>Q1</td>\n",
       "      <td>2016</td>\n",
       "      <td>NaT</td>\n",
       "      <td>0</td>\n",
       "      <td>USD</td>\n",
       "      <td>83865.6</td>\n",
       "      <td>USD</td>\n",
       "      <td>83865.6</td>\n",
       "      <td>Closed Won</td>\n",
       "      <td>Prod_Category_A_None</td>\n",
       "    </tr>\n",
       "    <tr>\n",
       "      <th>3</th>\n",
       "      <td>16808</td>\n",
       "      <td>Americas</td>\n",
       "      <td>NW America</td>\n",
       "      <td>1</td>\n",
       "      <td>False</td>\n",
       "      <td>True</td>\n",
       "      <td>False</td>\n",
       "      <td>False</td>\n",
       "      <td>Bureaucratic_Code_5</td>\n",
       "      <td>7/27/2013</td>\n",
       "      <td>...</td>\n",
       "      <td>Q1</td>\n",
       "      <td>2018</td>\n",
       "      <td>NaT</td>\n",
       "      <td>14</td>\n",
       "      <td>USD</td>\n",
       "      <td>7421881.5</td>\n",
       "      <td>USD</td>\n",
       "      <td>7421881.5</td>\n",
       "      <td>Closed Lost</td>\n",
       "      <td>Prod_Category_A_None</td>\n",
       "    </tr>\n",
       "    <tr>\n",
       "      <th>4</th>\n",
       "      <td>16805</td>\n",
       "      <td>Americas</td>\n",
       "      <td>NW America</td>\n",
       "      <td>1</td>\n",
       "      <td>False</td>\n",
       "      <td>True</td>\n",
       "      <td>False</td>\n",
       "      <td>False</td>\n",
       "      <td>Bureaucratic_Code_5</td>\n",
       "      <td>7/27/2013</td>\n",
       "      <td>...</td>\n",
       "      <td>Q1</td>\n",
       "      <td>2018</td>\n",
       "      <td>NaT</td>\n",
       "      <td>25</td>\n",
       "      <td>USD</td>\n",
       "      <td>13357192.5</td>\n",
       "      <td>USD</td>\n",
       "      <td>13357192.5</td>\n",
       "      <td>Closed Lost</td>\n",
       "      <td>Prod_Category_A_None</td>\n",
       "    </tr>\n",
       "  </tbody>\n",
       "</table>\n",
       "<p>5 rows × 52 columns</p>\n",
       "</div>"
      ],
      "text/plain": [
       "      ID    Region   Territory  Pricing, Delivery_Terms_Quote_Appr  \\\n",
       "0  27761      EMEA        None                                   1   \n",
       "1  27760      EMEA        None                                   0   \n",
       "2  27446  Americas  NW America                                   0   \n",
       "3  16808  Americas  NW America                                   1   \n",
       "4  16805  Americas  NW America                                   1   \n",
       "\n",
       "   Pricing, Delivery_Terms_Approved  Bureaucratic_Code_0_Approval  \\\n",
       "0                              True                          True   \n",
       "1                             False                         False   \n",
       "2                             False                         False   \n",
       "3                             False                          True   \n",
       "4                             False                          True   \n",
       "\n",
       "   Bureaucratic_Code_0_Approved  Submitted_for_Approval    Bureaucratic_Code  \\\n",
       "0                          True                   False  Bureaucratic_Code_4   \n",
       "1                         False                   False  Bureaucratic_Code_4   \n",
       "2                         False                   False  Bureaucratic_Code_4   \n",
       "3                         False                   False  Bureaucratic_Code_5   \n",
       "4                         False                   False  Bureaucratic_Code_5   \n",
       "\n",
       "  Account_Created_Date  ... Delivery_Quarter Delivery_Year  \\\n",
       "0            6/16/2015  ...               Q2          2016   \n",
       "1            6/16/2015  ...               Q1          2016   \n",
       "2            4/21/2015  ...               Q1          2016   \n",
       "3            7/27/2013  ...               Q1          2018   \n",
       "4            7/27/2013  ...               Q1          2018   \n",
       "\n",
       "  Actual_Delivery_Date TRF  Total_Amount_Currency Total_Amount  \\\n",
       "0                  NaT  10                    EUR    5272800.0   \n",
       "1                  NaT   0                    EUR      48230.0   \n",
       "2                  NaT   0                    USD      83865.6   \n",
       "3                  NaT  14                    USD    7421881.5   \n",
       "4                  NaT  25                    USD   13357192.5   \n",
       "\n",
       "  Total_Taxable_Amount_Currency Total_Taxable_Amount        Stage  \\\n",
       "0                           EUR            5272800.0  Closed Lost   \n",
       "1                           EUR              48230.0   Closed Won   \n",
       "2                           USD              83865.6   Closed Won   \n",
       "3                           USD            7421881.5  Closed Lost   \n",
       "4                           USD           13357192.5  Closed Lost   \n",
       "\n",
       "        Prod_Category_A  \n",
       "0  Prod_Category_A_None  \n",
       "1  Prod_Category_A_None  \n",
       "2  Prod_Category_A_None  \n",
       "3  Prod_Category_A_None  \n",
       "4  Prod_Category_A_None  \n",
       "\n",
       "[5 rows x 52 columns]"
      ]
     },
     "execution_count": 2,
     "metadata": {},
     "output_type": "execute_result"
    }
   ],
   "source": [
    "df = pd.read_csv('./Entrenamieto_ECI_2020.csv',\n",
    "                dtype={\n",
    "                    'ID': 'int',\n",
    "                    'Region': 'category',\n",
    "                    'Territory': 'category',\n",
    "                    # 'Pricing, Delivery_Terms_Quote_Approval': 'bool',\n",
    "                    'Pricing, Delivery_Terms_Approved': 'bool',\n",
    "                    'Bureaucratic_Code_0_Approval': 'bool',\n",
    "                    'Bureaucratic_Code_0_Approved': 'bool',\n",
    "                    'Submitted_for_Approval': 'bool',\n",
    "                    'Bureaucratic_Code': 'category',\n",
    "                    # 'Account_Created_Date': 'datetime64',\n",
    "                    'Source': 'category',\n",
    "                    'Billing_Country': 'category',\n",
    "                    'Account_Name': 'category',\n",
    "                    'Opportunity_Name': 'category',\n",
    "                    'Opportunity_ID': 'int',\n",
    "                    # 'Sales_Contract_No': 'int',\n",
    "                    'Account_Owner': 'category',\n",
    "                    'Opportunity_Owner': 'category',\n",
    "                    'Account_Type': 'category',\n",
    "                    'Opportunity_Type': 'category',\n",
    "                    'Quote_Type': 'category',\n",
    "                    'Delivery_Terms': 'category',\n",
    "                    # 'Opportunity_Created_Date': 'datetime64',\n",
    "                    'Brand': 'category',\n",
    "                    'Product_Type': 'category',\n",
    "                    'Size': 'category',\n",
    "                    'Product_Category_B': 'category',\n",
    "                    # 'Price': 'float',\n",
    "                    'Currency': 'category',\n",
    "                    'Last_Activity': 'category',\n",
    "                    # 'Quote_Expiry_Date': 'datetime64',\n",
    "                    # 'Last_Modified_Date': 'datetime64',\n",
    "                    'Last_Modified_By': 'category',\n",
    "                    'Product_Family': 'category',\n",
    "                    'Product_Name': 'category',\n",
    "                    'ASP_Currency': 'category',\n",
    "                    'ASP': 'float',\n",
    "                    'ASP_(converted)_Currency': 'category',\n",
    "                    'ASP_(converted)': 'float',\n",
    "                    # 'Planned_Delivery_Start_Date': 'datetime64',\n",
    "                    # 'Planned_Delivery_End_Date': 'datetime64',\n",
    "                    # 'Month': 'datetime64?',\n",
    "                    'Delivery_Quarter': 'category',\n",
    "                    # 'Delivery_Year': 'datetime64?',\n",
    "                    # 'Actual_Delivery_Date': 'datetime64',\n",
    "                    'Total_Power': 'int',\n",
    "                    'Total_Amount_Currency': 'category',\n",
    "                    'Total_Amount': 'float',\n",
    "                    'Total_Taxable_Amount_Currency': 'category',\n",
    "                    'Total_Taxable_Amount': 'float',\n",
    "                    'Stage': 'category',\n",
    "                    'Prod_Category_A': 'category',\n",
    "                    'Total_Power_Discreet': 'category'\n",
    "                })\n",
    "df.head()"
   ]
  },
  {
   "cell_type": "code",
   "execution_count": 3,
   "metadata": {},
   "outputs": [],
   "source": [
    "df = df.rename(columns={'Pricing, Delivery_Terms_Quote_Appr': 'Pricing, Delivery_Terms_Quote_Approval'})"
   ]
  },
  {
   "cell_type": "code",
   "execution_count": 4,
   "metadata": {},
   "outputs": [],
   "source": [
    "df['Pricing, Delivery_Terms_Quote_Approval'] = df['Pricing, Delivery_Terms_Quote_Approval'].astype('bool')\n",
    "\n",
    "df['Account_Created_Date'] = df['Account_Created_Date'].astype('datetime64')\n",
    "df['Opportunity_Created_Date'] = df['Opportunity_Created_Date'].astype('datetime64')\n",
    "df['Quote_Expiry_Date'] = df['Quote_Expiry_Date'].astype('datetime64')\n",
    "df['Last_Modified_Date'] = df['Last_Modified_Date'].astype('datetime64')\n",
    "df['Planned_Delivery_Start_Date'] = df['Planned_Delivery_Start_Date'].astype('datetime64')\n",
    "df['Planned_Delivery_End_Date'] = df['Planned_Delivery_End_Date'].astype('datetime64')\n",
    "df['Month'] = df['Month'].astype('datetime64')\n",
    "df['Actual_Delivery_Date'] = df['Actual_Delivery_Date'].astype('datetime64')"
   ]
  },
  {
   "cell_type": "code",
   "execution_count": 5,
   "metadata": {},
   "outputs": [
    {
     "data": {
      "text/plain": [
       "datetime64[ns]    8\n",
       "bool              5\n",
       "float64           4\n",
       "int64             4\n",
       "object            3\n",
       "category          3\n",
       "category          1\n",
       "category          1\n",
       "category          1\n",
       "category          1\n",
       "category          1\n",
       "category          1\n",
       "category          1\n",
       "category          1\n",
       "category          1\n",
       "category          1\n",
       "category          1\n",
       "category          1\n",
       "category          1\n",
       "category          1\n",
       "category          1\n",
       "category          1\n",
       "category          1\n",
       "category          1\n",
       "category          1\n",
       "category          1\n",
       "category          1\n",
       "category          1\n",
       "category          1\n",
       "category          1\n",
       "category          1\n",
       "dtype: int64"
      ]
     },
     "execution_count": 5,
     "metadata": {},
     "output_type": "execute_result"
    }
   ],
   "source": [
    "df.dtypes.value_counts()"
   ]
  },
  {
   "cell_type": "code",
   "execution_count": 6,
   "metadata": {},
   "outputs": [
    {
     "name": "stdout",
     "output_type": "stream",
     "text": [
      "<class 'pandas.core.frame.DataFrame'>\n",
      "RangeIndex: 16947 entries, 0 to 16946\n",
      "Data columns (total 52 columns):\n",
      " #   Column                                  Non-Null Count  Dtype         \n",
      "---  ------                                  --------------  -----         \n",
      " 0   ID                                      16947 non-null  int64         \n",
      " 1   Region                                  16947 non-null  category      \n",
      " 2   Territory                               16947 non-null  category      \n",
      " 3   Pricing, Delivery_Terms_Quote_Approval  16947 non-null  bool          \n",
      " 4   Pricing, Delivery_Terms_Approved        16947 non-null  bool          \n",
      " 5   Bureaucratic_Code_0_Approval            16947 non-null  bool          \n",
      " 6   Bureaucratic_Code_0_Approved            16947 non-null  bool          \n",
      " 7   Submitted_for_Approval                  16947 non-null  bool          \n",
      " 8   Bureaucratic_Code                       16947 non-null  category      \n",
      " 9   Account_Created_Date                    16947 non-null  datetime64[ns]\n",
      " 10  Source                                  16947 non-null  object        \n",
      " 11  Billing_Country                         16947 non-null  category      \n",
      " 12  Account_Name                            16947 non-null  category      \n",
      " 13  Opportunity_Name                        16947 non-null  category      \n",
      " 14  Opportunity_ID                          16947 non-null  int64         \n",
      " 15  Sales_Contract_No                       16947 non-null  object        \n",
      " 16  Account_Owner                           16947 non-null  category      \n",
      " 17  Opportunity_Owner                       16947 non-null  category      \n",
      " 18  Account_Type                            16947 non-null  category      \n",
      " 19  Opportunity_Type                        16947 non-null  category      \n",
      " 20  Quote_Type                              16947 non-null  category      \n",
      " 21  Delivery_Terms                          16947 non-null  category      \n",
      " 22  Opportunity_Created_Date                16947 non-null  datetime64[ns]\n",
      " 23  Brand                                   16947 non-null  category      \n",
      " 24  Product_Type                            16947 non-null  category      \n",
      " 25  Size                                    16947 non-null  category      \n",
      " 26  Product_Category_B                      16947 non-null  category      \n",
      " 27  Price                                   16947 non-null  object        \n",
      " 28  Currency                                16947 non-null  category      \n",
      " 29  Last_Activity                           16947 non-null  category      \n",
      " 30  Quote_Expiry_Date                       12322 non-null  datetime64[ns]\n",
      " 31  Last_Modified_Date                      16947 non-null  datetime64[ns]\n",
      " 32  Last_Modified_By                        16947 non-null  category      \n",
      " 33  Product_Family                          16947 non-null  category      \n",
      " 34  Product_Name                            16947 non-null  category      \n",
      " 35  ASP_Currency                            16947 non-null  category      \n",
      " 36  ASP                                     13738 non-null  float64       \n",
      " 37  ASP_(converted)_Currency                16947 non-null  category      \n",
      " 38  ASP_(converted)                         13738 non-null  float64       \n",
      " 39  Planned_Delivery_Start_Date             16947 non-null  datetime64[ns]\n",
      " 40  Planned_Delivery_End_Date               16872 non-null  datetime64[ns]\n",
      " 41  Month                                   16947 non-null  datetime64[ns]\n",
      " 42  Delivery_Quarter                        16947 non-null  category      \n",
      " 43  Delivery_Year                           16947 non-null  int64         \n",
      " 44  Actual_Delivery_Date                    0 non-null      datetime64[ns]\n",
      " 45  TRF                                     16947 non-null  int64         \n",
      " 46  Total_Amount_Currency                   16947 non-null  category      \n",
      " 47  Total_Amount                            16888 non-null  float64       \n",
      " 48  Total_Taxable_Amount_Currency           16947 non-null  category      \n",
      " 49  Total_Taxable_Amount                    16947 non-null  float64       \n",
      " 50  Stage                                   16947 non-null  category      \n",
      " 51  Prod_Category_A                         16947 non-null  category      \n",
      "dtypes: bool(5), category(28), datetime64[ns](8), float64(4), int64(4), object(3)\n",
      "memory usage: 3.6+ MB\n"
     ]
    }
   ],
   "source": [
    "df.info()"
   ]
  },
  {
   "cell_type": "markdown",
   "metadata": {},
   "source": [
    "## Analisis de valores"
   ]
  },
  {
   "cell_type": "markdown",
   "metadata": {},
   "source": [
    "Valores númericos:"
   ]
  },
  {
   "cell_type": "code",
   "execution_count": 7,
   "metadata": {},
   "outputs": [
    {
     "data": {
      "text/html": [
       "<div>\n",
       "<style scoped>\n",
       "    .dataframe tbody tr th:only-of-type {\n",
       "        vertical-align: middle;\n",
       "    }\n",
       "\n",
       "    .dataframe tbody tr th {\n",
       "        vertical-align: top;\n",
       "    }\n",
       "\n",
       "    .dataframe thead th {\n",
       "        text-align: right;\n",
       "    }\n",
       "</style>\n",
       "<table border=\"1\" class=\"dataframe\">\n",
       "  <thead>\n",
       "    <tr style=\"text-align: right;\">\n",
       "      <th></th>\n",
       "      <th>ID</th>\n",
       "      <th>Opportunity_ID</th>\n",
       "      <th>ASP</th>\n",
       "      <th>ASP_(converted)</th>\n",
       "      <th>Delivery_Year</th>\n",
       "      <th>TRF</th>\n",
       "      <th>Total_Amount</th>\n",
       "      <th>Total_Taxable_Amount</th>\n",
       "    </tr>\n",
       "  </thead>\n",
       "  <tbody>\n",
       "    <tr>\n",
       "      <th>count</th>\n",
       "      <td>16947.000000</td>\n",
       "      <td>16947.000000</td>\n",
       "      <td>13738.000000</td>\n",
       "      <td>13738.000000</td>\n",
       "      <td>16947.000000</td>\n",
       "      <td>16947.000000</td>\n",
       "      <td>1.688800e+04</td>\n",
       "      <td>1.694700e+04</td>\n",
       "    </tr>\n",
       "    <tr>\n",
       "      <th>mean</th>\n",
       "      <td>17666.650440</td>\n",
       "      <td>5335.940225</td>\n",
       "      <td>7.012128</td>\n",
       "      <td>0.432554</td>\n",
       "      <td>2017.137428</td>\n",
       "      <td>2.338172</td>\n",
       "      <td>1.993659e+06</td>\n",
       "      <td>3.224117e+06</td>\n",
       "    </tr>\n",
       "    <tr>\n",
       "      <th>std</th>\n",
       "      <td>6940.859372</td>\n",
       "      <td>3324.723809</td>\n",
       "      <td>18.858359</td>\n",
       "      <td>0.758659</td>\n",
       "      <td>0.829603</td>\n",
       "      <td>12.169339</td>\n",
       "      <td>1.848426e+07</td>\n",
       "      <td>2.030360e+07</td>\n",
       "    </tr>\n",
       "    <tr>\n",
       "      <th>min</th>\n",
       "      <td>4854.000000</td>\n",
       "      <td>0.000000</td>\n",
       "      <td>0.000000</td>\n",
       "      <td>0.000000</td>\n",
       "      <td>2016.000000</td>\n",
       "      <td>0.000000</td>\n",
       "      <td>0.000000e+00</td>\n",
       "      <td>0.000000e+00</td>\n",
       "    </tr>\n",
       "    <tr>\n",
       "      <th>25%</th>\n",
       "      <td>11953.000000</td>\n",
       "      <td>2448.500000</td>\n",
       "      <td>0.360000</td>\n",
       "      <td>0.373260</td>\n",
       "      <td>2016.000000</td>\n",
       "      <td>0.000000</td>\n",
       "      <td>2.677500e+04</td>\n",
       "      <td>8.546580e+04</td>\n",
       "    </tr>\n",
       "    <tr>\n",
       "      <th>50%</th>\n",
       "      <td>18114.000000</td>\n",
       "      <td>5306.000000</td>\n",
       "      <td>0.400000</td>\n",
       "      <td>0.412850</td>\n",
       "      <td>2017.000000</td>\n",
       "      <td>0.000000</td>\n",
       "      <td>1.072500e+05</td>\n",
       "      <td>3.760672e+05</td>\n",
       "    </tr>\n",
       "    <tr>\n",
       "      <th>75%</th>\n",
       "      <td>23845.500000</td>\n",
       "      <td>7698.000000</td>\n",
       "      <td>0.505000</td>\n",
       "      <td>0.476490</td>\n",
       "      <td>2018.000000</td>\n",
       "      <td>1.000000</td>\n",
       "      <td>4.603898e+05</td>\n",
       "      <td>1.037450e+06</td>\n",
       "    </tr>\n",
       "    <tr>\n",
       "      <th>max</th>\n",
       "      <td>28773.000000</td>\n",
       "      <td>12803.000000</td>\n",
       "      <td>80.000000</td>\n",
       "      <td>67.000000</td>\n",
       "      <td>2020.000000</td>\n",
       "      <td>500.000000</td>\n",
       "      <td>1.320000e+09</td>\n",
       "      <td>1.356339e+09</td>\n",
       "    </tr>\n",
       "  </tbody>\n",
       "</table>\n",
       "</div>"
      ],
      "text/plain": [
       "                 ID  Opportunity_ID           ASP  ASP_(converted)  \\\n",
       "count  16947.000000    16947.000000  13738.000000     13738.000000   \n",
       "mean   17666.650440     5335.940225      7.012128         0.432554   \n",
       "std     6940.859372     3324.723809     18.858359         0.758659   \n",
       "min     4854.000000        0.000000      0.000000         0.000000   \n",
       "25%    11953.000000     2448.500000      0.360000         0.373260   \n",
       "50%    18114.000000     5306.000000      0.400000         0.412850   \n",
       "75%    23845.500000     7698.000000      0.505000         0.476490   \n",
       "max    28773.000000    12803.000000     80.000000        67.000000   \n",
       "\n",
       "       Delivery_Year           TRF  Total_Amount  Total_Taxable_Amount  \n",
       "count   16947.000000  16947.000000  1.688800e+04          1.694700e+04  \n",
       "mean     2017.137428      2.338172  1.993659e+06          3.224117e+06  \n",
       "std         0.829603     12.169339  1.848426e+07          2.030360e+07  \n",
       "min      2016.000000      0.000000  0.000000e+00          0.000000e+00  \n",
       "25%      2016.000000      0.000000  2.677500e+04          8.546580e+04  \n",
       "50%      2017.000000      0.000000  1.072500e+05          3.760672e+05  \n",
       "75%      2018.000000      1.000000  4.603898e+05          1.037450e+06  \n",
       "max      2020.000000    500.000000  1.320000e+09          1.356339e+09  "
      ]
     },
     "execution_count": 7,
     "metadata": {},
     "output_type": "execute_result"
    }
   ],
   "source": [
    "df.describe()"
   ]
  },
  {
   "cell_type": "markdown",
   "metadata": {},
   "source": [
    "Valores booleanos:"
   ]
  },
  {
   "cell_type": "code",
   "execution_count": 8,
   "metadata": {},
   "outputs": [
    {
     "data": {
      "text/html": [
       "<div>\n",
       "<style scoped>\n",
       "    .dataframe tbody tr th:only-of-type {\n",
       "        vertical-align: middle;\n",
       "    }\n",
       "\n",
       "    .dataframe tbody tr th {\n",
       "        vertical-align: top;\n",
       "    }\n",
       "\n",
       "    .dataframe thead th {\n",
       "        text-align: right;\n",
       "    }\n",
       "</style>\n",
       "<table border=\"1\" class=\"dataframe\">\n",
       "  <thead>\n",
       "    <tr style=\"text-align: right;\">\n",
       "      <th></th>\n",
       "      <th>Pricing, Delivery_Terms_Quote_Approval</th>\n",
       "      <th>Pricing, Delivery_Terms_Approved</th>\n",
       "      <th>Bureaucratic_Code_0_Approval</th>\n",
       "      <th>Bureaucratic_Code_0_Approved</th>\n",
       "      <th>Submitted_for_Approval</th>\n",
       "    </tr>\n",
       "  </thead>\n",
       "  <tbody>\n",
       "    <tr>\n",
       "      <th>count</th>\n",
       "      <td>16947</td>\n",
       "      <td>16947</td>\n",
       "      <td>16947</td>\n",
       "      <td>16947</td>\n",
       "      <td>16947</td>\n",
       "    </tr>\n",
       "    <tr>\n",
       "      <th>unique</th>\n",
       "      <td>2</td>\n",
       "      <td>2</td>\n",
       "      <td>2</td>\n",
       "      <td>2</td>\n",
       "      <td>1</td>\n",
       "    </tr>\n",
       "    <tr>\n",
       "      <th>top</th>\n",
       "      <td>True</td>\n",
       "      <td>True</td>\n",
       "      <td>False</td>\n",
       "      <td>False</td>\n",
       "      <td>False</td>\n",
       "    </tr>\n",
       "    <tr>\n",
       "      <th>freq</th>\n",
       "      <td>13693</td>\n",
       "      <td>9890</td>\n",
       "      <td>8889</td>\n",
       "      <td>11543</td>\n",
       "      <td>16947</td>\n",
       "    </tr>\n",
       "  </tbody>\n",
       "</table>\n",
       "</div>"
      ],
      "text/plain": [
       "       Pricing, Delivery_Terms_Quote_Approval  \\\n",
       "count                                   16947   \n",
       "unique                                      2   \n",
       "top                                      True   \n",
       "freq                                    13693   \n",
       "\n",
       "       Pricing, Delivery_Terms_Approved Bureaucratic_Code_0_Approval  \\\n",
       "count                             16947                        16947   \n",
       "unique                                2                            2   \n",
       "top                                True                        False   \n",
       "freq                               9890                         8889   \n",
       "\n",
       "       Bureaucratic_Code_0_Approved Submitted_for_Approval  \n",
       "count                         16947                  16947  \n",
       "unique                            2                      1  \n",
       "top                           False                  False  \n",
       "freq                          11543                  16947  "
      ]
     },
     "execution_count": 8,
     "metadata": {},
     "output_type": "execute_result"
    }
   ],
   "source": [
    "df.select_dtypes(include=['bool']).describe()"
   ]
  },
  {
   "cell_type": "markdown",
   "metadata": {},
   "source": [
    "**'Submitted_for_Approval'** solo tiene valor: False."
   ]
  },
  {
   "cell_type": "markdown",
   "metadata": {},
   "source": [
    "Valores fecha:"
   ]
  },
  {
   "cell_type": "code",
   "execution_count": 9,
   "metadata": {},
   "outputs": [
    {
     "data": {
      "text/html": [
       "<div>\n",
       "<style scoped>\n",
       "    .dataframe tbody tr th:only-of-type {\n",
       "        vertical-align: middle;\n",
       "    }\n",
       "\n",
       "    .dataframe tbody tr th {\n",
       "        vertical-align: top;\n",
       "    }\n",
       "\n",
       "    .dataframe thead th {\n",
       "        text-align: right;\n",
       "    }\n",
       "</style>\n",
       "<table border=\"1\" class=\"dataframe\">\n",
       "  <thead>\n",
       "    <tr style=\"text-align: right;\">\n",
       "      <th></th>\n",
       "      <th>Account_Created_Date</th>\n",
       "      <th>Opportunity_Created_Date</th>\n",
       "      <th>Quote_Expiry_Date</th>\n",
       "      <th>Last_Modified_Date</th>\n",
       "      <th>Planned_Delivery_Start_Date</th>\n",
       "      <th>Planned_Delivery_End_Date</th>\n",
       "      <th>Month</th>\n",
       "      <th>Actual_Delivery_Date</th>\n",
       "    </tr>\n",
       "  </thead>\n",
       "  <tbody>\n",
       "    <tr>\n",
       "      <th>count</th>\n",
       "      <td>16947</td>\n",
       "      <td>16947</td>\n",
       "      <td>12322</td>\n",
       "      <td>16947</td>\n",
       "      <td>16947</td>\n",
       "      <td>16872</td>\n",
       "      <td>16947</td>\n",
       "      <td>0</td>\n",
       "    </tr>\n",
       "    <tr>\n",
       "      <th>unique</th>\n",
       "      <td>809</td>\n",
       "      <td>1096</td>\n",
       "      <td>1002</td>\n",
       "      <td>650</td>\n",
       "      <td>986</td>\n",
       "      <td>1016</td>\n",
       "      <td>53</td>\n",
       "      <td>0</td>\n",
       "    </tr>\n",
       "    <tr>\n",
       "      <th>top</th>\n",
       "      <td>2015-04-20 00:00:00</td>\n",
       "      <td>2017-06-30 00:00:00</td>\n",
       "      <td>2017-06-30 00:00:00</td>\n",
       "      <td>2018-02-08 00:00:00</td>\n",
       "      <td>2016-03-31 00:00:00</td>\n",
       "      <td>2016-03-31 00:00:00</td>\n",
       "      <td>2018-10-01 00:00:00</td>\n",
       "      <td>NaN</td>\n",
       "    </tr>\n",
       "    <tr>\n",
       "      <th>freq</th>\n",
       "      <td>3011</td>\n",
       "      <td>124</td>\n",
       "      <td>436</td>\n",
       "      <td>5821</td>\n",
       "      <td>381</td>\n",
       "      <td>451</td>\n",
       "      <td>666</td>\n",
       "      <td>NaN</td>\n",
       "    </tr>\n",
       "    <tr>\n",
       "      <th>first</th>\n",
       "      <td>2013-07-27 00:00:00</td>\n",
       "      <td>2013-11-05 00:00:00</td>\n",
       "      <td>2014-09-30 00:00:00</td>\n",
       "      <td>2015-03-12 00:00:00</td>\n",
       "      <td>2016-01-01 00:00:00</td>\n",
       "      <td>2016-01-05 00:00:00</td>\n",
       "      <td>2016-01-01 00:00:00</td>\n",
       "      <td>NaN</td>\n",
       "    </tr>\n",
       "    <tr>\n",
       "      <th>last</th>\n",
       "      <td>2018-12-21 00:00:00</td>\n",
       "      <td>2018-12-29 00:00:00</td>\n",
       "      <td>2019-06-30 00:00:00</td>\n",
       "      <td>2018-12-29 00:00:00</td>\n",
       "      <td>2020-09-17 00:00:00</td>\n",
       "      <td>2208-12-31 00:00:00</td>\n",
       "      <td>2020-09-01 00:00:00</td>\n",
       "      <td>NaN</td>\n",
       "    </tr>\n",
       "  </tbody>\n",
       "</table>\n",
       "</div>"
      ],
      "text/plain": [
       "       Account_Created_Date Opportunity_Created_Date    Quote_Expiry_Date  \\\n",
       "count                 16947                    16947                12322   \n",
       "unique                  809                     1096                 1002   \n",
       "top     2015-04-20 00:00:00      2017-06-30 00:00:00  2017-06-30 00:00:00   \n",
       "freq                   3011                      124                  436   \n",
       "first   2013-07-27 00:00:00      2013-11-05 00:00:00  2014-09-30 00:00:00   \n",
       "last    2018-12-21 00:00:00      2018-12-29 00:00:00  2019-06-30 00:00:00   \n",
       "\n",
       "         Last_Modified_Date Planned_Delivery_Start_Date  \\\n",
       "count                 16947                       16947   \n",
       "unique                  650                         986   \n",
       "top     2018-02-08 00:00:00         2016-03-31 00:00:00   \n",
       "freq                   5821                         381   \n",
       "first   2015-03-12 00:00:00         2016-01-01 00:00:00   \n",
       "last    2018-12-29 00:00:00         2020-09-17 00:00:00   \n",
       "\n",
       "       Planned_Delivery_End_Date                Month Actual_Delivery_Date  \n",
       "count                      16872                16947                    0  \n",
       "unique                      1016                   53                    0  \n",
       "top          2016-03-31 00:00:00  2018-10-01 00:00:00                  NaN  \n",
       "freq                         451                  666                  NaN  \n",
       "first        2016-01-05 00:00:00  2016-01-01 00:00:00                  NaN  \n",
       "last         2208-12-31 00:00:00  2020-09-01 00:00:00                  NaN  "
      ]
     },
     "execution_count": 9,
     "metadata": {},
     "output_type": "execute_result"
    }
   ],
   "source": [
    "df.select_dtypes(include=['datetime64[ns]']).describe()"
   ]
  },
  {
   "cell_type": "markdown",
   "metadata": {},
   "source": [
    "**'Actual_Delivery_Date'** no tiene ningún valor."
   ]
  },
  {
   "cell_type": "code",
   "execution_count": 10,
   "metadata": {},
   "outputs": [
    {
     "data": {
      "text/html": [
       "<div>\n",
       "<style scoped>\n",
       "    .dataframe tbody tr th:only-of-type {\n",
       "        vertical-align: middle;\n",
       "    }\n",
       "\n",
       "    .dataframe tbody tr th {\n",
       "        vertical-align: top;\n",
       "    }\n",
       "\n",
       "    .dataframe thead th {\n",
       "        text-align: right;\n",
       "    }\n",
       "</style>\n",
       "<table border=\"1\" class=\"dataframe\">\n",
       "  <thead>\n",
       "    <tr style=\"text-align: right;\">\n",
       "      <th></th>\n",
       "      <th>Region</th>\n",
       "      <th>Territory</th>\n",
       "      <th>Bureaucratic_Code</th>\n",
       "      <th>Billing_Country</th>\n",
       "      <th>Account_Name</th>\n",
       "      <th>Opportunity_Name</th>\n",
       "      <th>Account_Owner</th>\n",
       "      <th>Opportunity_Owner</th>\n",
       "      <th>Account_Type</th>\n",
       "      <th>Opportunity_Type</th>\n",
       "      <th>...</th>\n",
       "      <th>Last_Modified_By</th>\n",
       "      <th>Product_Family</th>\n",
       "      <th>Product_Name</th>\n",
       "      <th>ASP_Currency</th>\n",
       "      <th>ASP_(converted)_Currency</th>\n",
       "      <th>Delivery_Quarter</th>\n",
       "      <th>Total_Amount_Currency</th>\n",
       "      <th>Total_Taxable_Amount_Currency</th>\n",
       "      <th>Stage</th>\n",
       "      <th>Prod_Category_A</th>\n",
       "    </tr>\n",
       "  </thead>\n",
       "  <tbody>\n",
       "    <tr>\n",
       "      <th>count</th>\n",
       "      <td>16947</td>\n",
       "      <td>16947</td>\n",
       "      <td>16947</td>\n",
       "      <td>16947</td>\n",
       "      <td>16947</td>\n",
       "      <td>16947</td>\n",
       "      <td>16947</td>\n",
       "      <td>16947</td>\n",
       "      <td>16947</td>\n",
       "      <td>16947</td>\n",
       "      <td>...</td>\n",
       "      <td>16947</td>\n",
       "      <td>16947</td>\n",
       "      <td>16947</td>\n",
       "      <td>16947</td>\n",
       "      <td>16947</td>\n",
       "      <td>16947</td>\n",
       "      <td>16947</td>\n",
       "      <td>16947</td>\n",
       "      <td>16947</td>\n",
       "      <td>16947</td>\n",
       "    </tr>\n",
       "    <tr>\n",
       "      <th>unique</th>\n",
       "      <td>5</td>\n",
       "      <td>76</td>\n",
       "      <td>7</td>\n",
       "      <td>80</td>\n",
       "      <td>1635</td>\n",
       "      <td>9841</td>\n",
       "      <td>48</td>\n",
       "      <td>53</td>\n",
       "      <td>7</td>\n",
       "      <td>25</td>\n",
       "      <td>...</td>\n",
       "      <td>55</td>\n",
       "      <td>227</td>\n",
       "      <td>456</td>\n",
       "      <td>5</td>\n",
       "      <td>1</td>\n",
       "      <td>4</td>\n",
       "      <td>5</td>\n",
       "      <td>5</td>\n",
       "      <td>5</td>\n",
       "      <td>1</td>\n",
       "    </tr>\n",
       "    <tr>\n",
       "      <th>top</th>\n",
       "      <td>Japan</td>\n",
       "      <td>None</td>\n",
       "      <td>Bureaucratic_Code_4</td>\n",
       "      <td>Japan</td>\n",
       "      <td>Account_Name_1888</td>\n",
       "      <td>Opportunity_Name_9795</td>\n",
       "      <td>Person_Name_50</td>\n",
       "      <td>Person_Name_50</td>\n",
       "      <td>Account_Type_2</td>\n",
       "      <td>Opportunity_Type_1</td>\n",
       "      <td>...</td>\n",
       "      <td>Person_Name_47</td>\n",
       "      <td>Product_Family_77</td>\n",
       "      <td>Product_Name_100</td>\n",
       "      <td>USD</td>\n",
       "      <td>USD</td>\n",
       "      <td>Q2</td>\n",
       "      <td>USD</td>\n",
       "      <td>USD</td>\n",
       "      <td>Closed Won</td>\n",
       "      <td>Prod_Category_A_None</td>\n",
       "    </tr>\n",
       "    <tr>\n",
       "      <th>freq</th>\n",
       "      <td>4892</td>\n",
       "      <td>4999</td>\n",
       "      <td>12587</td>\n",
       "      <td>4879</td>\n",
       "      <td>2124</td>\n",
       "      <td>36</td>\n",
       "      <td>3730</td>\n",
       "      <td>3781</td>\n",
       "      <td>8832</td>\n",
       "      <td>6819</td>\n",
       "      <td>...</td>\n",
       "      <td>8515</td>\n",
       "      <td>1345</td>\n",
       "      <td>976</td>\n",
       "      <td>7361</td>\n",
       "      <td>16947</td>\n",
       "      <td>4443</td>\n",
       "      <td>7361</td>\n",
       "      <td>7347</td>\n",
       "      <td>9533</td>\n",
       "      <td>16947</td>\n",
       "    </tr>\n",
       "  </tbody>\n",
       "</table>\n",
       "<p>4 rows × 28 columns</p>\n",
       "</div>"
      ],
      "text/plain": [
       "       Region Territory    Bureaucratic_Code Billing_Country  \\\n",
       "count   16947     16947                16947           16947   \n",
       "unique      5        76                    7              80   \n",
       "top     Japan      None  Bureaucratic_Code_4           Japan   \n",
       "freq     4892      4999                12587            4879   \n",
       "\n",
       "             Account_Name       Opportunity_Name   Account_Owner  \\\n",
       "count               16947                  16947           16947   \n",
       "unique               1635                   9841              48   \n",
       "top     Account_Name_1888  Opportunity_Name_9795  Person_Name_50   \n",
       "freq                 2124                     36            3730   \n",
       "\n",
       "       Opportunity_Owner    Account_Type    Opportunity_Type  ...  \\\n",
       "count              16947           16947               16947  ...   \n",
       "unique                53               7                  25  ...   \n",
       "top       Person_Name_50  Account_Type_2  Opportunity_Type_1  ...   \n",
       "freq                3781            8832                6819  ...   \n",
       "\n",
       "       Last_Modified_By     Product_Family      Product_Name ASP_Currency  \\\n",
       "count             16947              16947             16947        16947   \n",
       "unique               55                227               456            5   \n",
       "top      Person_Name_47  Product_Family_77  Product_Name_100          USD   \n",
       "freq               8515               1345               976         7361   \n",
       "\n",
       "       ASP_(converted)_Currency Delivery_Quarter Total_Amount_Currency  \\\n",
       "count                     16947            16947                 16947   \n",
       "unique                        1                4                     5   \n",
       "top                         USD               Q2                   USD   \n",
       "freq                      16947             4443                  7361   \n",
       "\n",
       "       Total_Taxable_Amount_Currency       Stage       Prod_Category_A  \n",
       "count                          16947       16947                 16947  \n",
       "unique                             5           5                     1  \n",
       "top                              USD  Closed Won  Prod_Category_A_None  \n",
       "freq                            7347        9533                 16947  \n",
       "\n",
       "[4 rows x 28 columns]"
      ]
     },
     "execution_count": 10,
     "metadata": {},
     "output_type": "execute_result"
    }
   ],
   "source": [
    "df.select_dtypes(include=['category']).describe()"
   ]
  },
  {
   "cell_type": "code",
   "execution_count": 11,
   "metadata": {},
   "outputs": [
    {
     "data": {
      "text/plain": [
       "20"
      ]
     },
     "execution_count": 11,
     "metadata": {},
     "output_type": "execute_result"
    }
   ],
   "source": [
    "pd.options.display.max_columns"
   ]
  },
  {
   "cell_type": "code",
   "execution_count": 12,
   "metadata": {},
   "outputs": [],
   "source": [
    "pd.options.display.max_columns = None"
   ]
  },
  {
   "cell_type": "code",
   "execution_count": 13,
   "metadata": {},
   "outputs": [
    {
     "data": {
      "text/html": [
       "<div>\n",
       "<style scoped>\n",
       "    .dataframe tbody tr th:only-of-type {\n",
       "        vertical-align: middle;\n",
       "    }\n",
       "\n",
       "    .dataframe tbody tr th {\n",
       "        vertical-align: top;\n",
       "    }\n",
       "\n",
       "    .dataframe thead th {\n",
       "        text-align: right;\n",
       "    }\n",
       "</style>\n",
       "<table border=\"1\" class=\"dataframe\">\n",
       "  <thead>\n",
       "    <tr style=\"text-align: right;\">\n",
       "      <th></th>\n",
       "      <th>Region</th>\n",
       "      <th>Territory</th>\n",
       "      <th>Bureaucratic_Code</th>\n",
       "      <th>Billing_Country</th>\n",
       "      <th>Account_Name</th>\n",
       "      <th>Opportunity_Name</th>\n",
       "      <th>Account_Owner</th>\n",
       "      <th>Opportunity_Owner</th>\n",
       "      <th>Account_Type</th>\n",
       "      <th>Opportunity_Type</th>\n",
       "      <th>Quote_Type</th>\n",
       "      <th>Delivery_Terms</th>\n",
       "      <th>Brand</th>\n",
       "      <th>Product_Type</th>\n",
       "      <th>Size</th>\n",
       "      <th>Product_Category_B</th>\n",
       "      <th>Currency</th>\n",
       "      <th>Last_Activity</th>\n",
       "      <th>Last_Modified_By</th>\n",
       "      <th>Product_Family</th>\n",
       "      <th>Product_Name</th>\n",
       "      <th>ASP_Currency</th>\n",
       "      <th>ASP_(converted)_Currency</th>\n",
       "      <th>Delivery_Quarter</th>\n",
       "      <th>Total_Amount_Currency</th>\n",
       "      <th>Total_Taxable_Amount_Currency</th>\n",
       "      <th>Stage</th>\n",
       "      <th>Prod_Category_A</th>\n",
       "    </tr>\n",
       "  </thead>\n",
       "  <tbody>\n",
       "    <tr>\n",
       "      <th>count</th>\n",
       "      <td>16947</td>\n",
       "      <td>16947</td>\n",
       "      <td>16947</td>\n",
       "      <td>16947</td>\n",
       "      <td>16947</td>\n",
       "      <td>16947</td>\n",
       "      <td>16947</td>\n",
       "      <td>16947</td>\n",
       "      <td>16947</td>\n",
       "      <td>16947</td>\n",
       "      <td>16947</td>\n",
       "      <td>16947</td>\n",
       "      <td>16947</td>\n",
       "      <td>16947</td>\n",
       "      <td>16947</td>\n",
       "      <td>16947</td>\n",
       "      <td>16947</td>\n",
       "      <td>16947</td>\n",
       "      <td>16947</td>\n",
       "      <td>16947</td>\n",
       "      <td>16947</td>\n",
       "      <td>16947</td>\n",
       "      <td>16947</td>\n",
       "      <td>16947</td>\n",
       "      <td>16947</td>\n",
       "      <td>16947</td>\n",
       "      <td>16947</td>\n",
       "      <td>16947</td>\n",
       "    </tr>\n",
       "    <tr>\n",
       "      <th>unique</th>\n",
       "      <td>5</td>\n",
       "      <td>76</td>\n",
       "      <td>7</td>\n",
       "      <td>80</td>\n",
       "      <td>1635</td>\n",
       "      <td>9841</td>\n",
       "      <td>48</td>\n",
       "      <td>53</td>\n",
       "      <td>7</td>\n",
       "      <td>25</td>\n",
       "      <td>2</td>\n",
       "      <td>9</td>\n",
       "      <td>26</td>\n",
       "      <td>7</td>\n",
       "      <td>7</td>\n",
       "      <td>28</td>\n",
       "      <td>3</td>\n",
       "      <td>1</td>\n",
       "      <td>55</td>\n",
       "      <td>227</td>\n",
       "      <td>456</td>\n",
       "      <td>5</td>\n",
       "      <td>1</td>\n",
       "      <td>4</td>\n",
       "      <td>5</td>\n",
       "      <td>5</td>\n",
       "      <td>5</td>\n",
       "      <td>1</td>\n",
       "    </tr>\n",
       "    <tr>\n",
       "      <th>top</th>\n",
       "      <td>Japan</td>\n",
       "      <td>None</td>\n",
       "      <td>Bureaucratic_Code_4</td>\n",
       "      <td>Japan</td>\n",
       "      <td>Account_Name_1888</td>\n",
       "      <td>Opportunity_Name_9795</td>\n",
       "      <td>Person_Name_50</td>\n",
       "      <td>Person_Name_50</td>\n",
       "      <td>Account_Type_2</td>\n",
       "      <td>Opportunity_Type_1</td>\n",
       "      <td>Non Binding</td>\n",
       "      <td>Delivery_Terms_4</td>\n",
       "      <td>None</td>\n",
       "      <td>None</td>\n",
       "      <td>None</td>\n",
       "      <td>None</td>\n",
       "      <td>None</td>\n",
       "      <td>NaT</td>\n",
       "      <td>Person_Name_47</td>\n",
       "      <td>Product_Family_77</td>\n",
       "      <td>Product_Name_100</td>\n",
       "      <td>USD</td>\n",
       "      <td>USD</td>\n",
       "      <td>Q2</td>\n",
       "      <td>USD</td>\n",
       "      <td>USD</td>\n",
       "      <td>Closed Won</td>\n",
       "      <td>Prod_Category_A_None</td>\n",
       "    </tr>\n",
       "    <tr>\n",
       "      <th>freq</th>\n",
       "      <td>4892</td>\n",
       "      <td>4999</td>\n",
       "      <td>12587</td>\n",
       "      <td>4879</td>\n",
       "      <td>2124</td>\n",
       "      <td>36</td>\n",
       "      <td>3730</td>\n",
       "      <td>3781</td>\n",
       "      <td>8832</td>\n",
       "      <td>6819</td>\n",
       "      <td>16777</td>\n",
       "      <td>7712</td>\n",
       "      <td>15911</td>\n",
       "      <td>15935</td>\n",
       "      <td>15967</td>\n",
       "      <td>15928</td>\n",
       "      <td>16052</td>\n",
       "      <td>16947</td>\n",
       "      <td>8515</td>\n",
       "      <td>1345</td>\n",
       "      <td>976</td>\n",
       "      <td>7361</td>\n",
       "      <td>16947</td>\n",
       "      <td>4443</td>\n",
       "      <td>7361</td>\n",
       "      <td>7347</td>\n",
       "      <td>9533</td>\n",
       "      <td>16947</td>\n",
       "    </tr>\n",
       "  </tbody>\n",
       "</table>\n",
       "</div>"
      ],
      "text/plain": [
       "       Region Territory    Bureaucratic_Code Billing_Country  \\\n",
       "count   16947     16947                16947           16947   \n",
       "unique      5        76                    7              80   \n",
       "top     Japan      None  Bureaucratic_Code_4           Japan   \n",
       "freq     4892      4999                12587            4879   \n",
       "\n",
       "             Account_Name       Opportunity_Name   Account_Owner  \\\n",
       "count               16947                  16947           16947   \n",
       "unique               1635                   9841              48   \n",
       "top     Account_Name_1888  Opportunity_Name_9795  Person_Name_50   \n",
       "freq                 2124                     36            3730   \n",
       "\n",
       "       Opportunity_Owner    Account_Type    Opportunity_Type   Quote_Type  \\\n",
       "count              16947           16947               16947        16947   \n",
       "unique                53               7                  25            2   \n",
       "top       Person_Name_50  Account_Type_2  Opportunity_Type_1  Non Binding   \n",
       "freq                3781            8832                6819        16777   \n",
       "\n",
       "          Delivery_Terms  Brand Product_Type   Size Product_Category_B  \\\n",
       "count              16947  16947        16947  16947              16947   \n",
       "unique                 9     26            7      7                 28   \n",
       "top     Delivery_Terms_4   None         None   None               None   \n",
       "freq                7712  15911        15935  15967              15928   \n",
       "\n",
       "       Currency Last_Activity Last_Modified_By     Product_Family  \\\n",
       "count     16947         16947            16947              16947   \n",
       "unique        3             1               55                227   \n",
       "top        None           NaT   Person_Name_47  Product_Family_77   \n",
       "freq      16052         16947             8515               1345   \n",
       "\n",
       "            Product_Name ASP_Currency ASP_(converted)_Currency  \\\n",
       "count              16947        16947                    16947   \n",
       "unique               456            5                        1   \n",
       "top     Product_Name_100          USD                      USD   \n",
       "freq                 976         7361                    16947   \n",
       "\n",
       "       Delivery_Quarter Total_Amount_Currency Total_Taxable_Amount_Currency  \\\n",
       "count             16947                 16947                         16947   \n",
       "unique                4                     5                             5   \n",
       "top                  Q2                   USD                           USD   \n",
       "freq               4443                  7361                          7347   \n",
       "\n",
       "             Stage       Prod_Category_A  \n",
       "count        16947                 16947  \n",
       "unique           5                     1  \n",
       "top     Closed Won  Prod_Category_A_None  \n",
       "freq          9533                 16947  "
      ]
     },
     "execution_count": 13,
     "metadata": {},
     "output_type": "execute_result"
    }
   ],
   "source": [
    "df.select_dtypes(include=['category']).describe()"
   ]
  },
  {
   "cell_type": "markdown",
   "metadata": {},
   "source": [
    "**'Last_Activity' y 'Prod_Category_A'** solo tienen un valor."
   ]
  },
  {
   "cell_type": "markdown",
   "metadata": {},
   "source": [
    "**'ASP_(converted)__Currency'** solo tiene un valor pero se puede utilizar interpretar el cambio de moneda."
   ]
  },
  {
   "cell_type": "code",
   "execution_count": 14,
   "metadata": {},
   "outputs": [
    {
     "data": {
      "text/html": [
       "<div>\n",
       "<style scoped>\n",
       "    .dataframe tbody tr th:only-of-type {\n",
       "        vertical-align: middle;\n",
       "    }\n",
       "\n",
       "    .dataframe tbody tr th {\n",
       "        vertical-align: top;\n",
       "    }\n",
       "\n",
       "    .dataframe thead th {\n",
       "        text-align: right;\n",
       "    }\n",
       "</style>\n",
       "<table border=\"1\" class=\"dataframe\">\n",
       "  <thead>\n",
       "    <tr style=\"text-align: right;\">\n",
       "      <th></th>\n",
       "      <th>Source</th>\n",
       "      <th>Sales_Contract_No</th>\n",
       "      <th>Price</th>\n",
       "    </tr>\n",
       "  </thead>\n",
       "  <tbody>\n",
       "    <tr>\n",
       "      <th>count</th>\n",
       "      <td>16947</td>\n",
       "      <td>16947</td>\n",
       "      <td>16947</td>\n",
       "    </tr>\n",
       "    <tr>\n",
       "      <th>unique</th>\n",
       "      <td>14</td>\n",
       "      <td>5267</td>\n",
       "      <td>53</td>\n",
       "    </tr>\n",
       "    <tr>\n",
       "      <th>top</th>\n",
       "      <td>None</td>\n",
       "      <td>None</td>\n",
       "      <td>None</td>\n",
       "    </tr>\n",
       "    <tr>\n",
       "      <th>freq</th>\n",
       "      <td>9497</td>\n",
       "      <td>6973</td>\n",
       "      <td>15982</td>\n",
       "    </tr>\n",
       "  </tbody>\n",
       "</table>\n",
       "</div>"
      ],
      "text/plain": [
       "       Source  Sales_Contract_No  Price\n",
       "count    16947             16947  16947\n",
       "unique      14              5267     53\n",
       "top       None              None   None\n",
       "freq      9497              6973  15982"
      ]
     },
     "execution_count": 14,
     "metadata": {},
     "output_type": "execute_result"
    }
   ],
   "source": [
    "df.select_dtypes(include=['object']).describe().head()"
   ]
  },
  {
   "cell_type": "markdown",
   "metadata": {},
   "source": [
    "Falta corregir tipo Object"
   ]
  },
  {
   "cell_type": "markdown",
   "metadata": {},
   "source": [
    "## Valores faltantes"
   ]
  },
  {
   "cell_type": "markdown",
   "metadata": {},
   "source": [
    "Análisis de columnas categoricas con más de un valor y valor top = 'None'."
   ]
  },
  {
   "cell_type": "code",
   "execution_count": 15,
   "metadata": {},
   "outputs": [
    {
     "data": {
      "text/plain": [
       "None          4999\n",
       "Germany       1682\n",
       "NW America    1568\n",
       "Australia     1208\n",
       "India          809\n",
       "Name: Territory, dtype: int64"
      ]
     },
     "execution_count": 15,
     "metadata": {},
     "output_type": "execute_result"
    }
   ],
   "source": [
    "df['Territory'].value_counts().head()"
   ]
  },
  {
   "cell_type": "code",
   "execution_count": 16,
   "metadata": {},
   "outputs": [
    {
     "data": {
      "text/plain": [
       "None          0.294978\n",
       "Germany       0.099251\n",
       "NW America    0.092524\n",
       "Australia     0.071281\n",
       "India         0.047737\n",
       "Name: Territory, dtype: float64"
      ]
     },
     "execution_count": 16,
     "metadata": {},
     "output_type": "execute_result"
    }
   ],
   "source": [
    "df['Territory'].value_counts(normalize=True).head()"
   ]
  },
  {
   "cell_type": "code",
   "execution_count": 17,
   "metadata": {},
   "outputs": [
    {
     "data": {
      "text/plain": [
       "None        15911\n",
       "Other         607\n",
       "Brand_9       140\n",
       "Brand_5        48\n",
       "Brand_24       38\n",
       "Name: Brand, dtype: int64"
      ]
     },
     "execution_count": 17,
     "metadata": {},
     "output_type": "execute_result"
    }
   ],
   "source": [
    "df['Brand'].value_counts().head()"
   ]
  },
  {
   "cell_type": "code",
   "execution_count": 18,
   "metadata": {},
   "outputs": [
    {
     "data": {
      "text/plain": [
       "None        0.938868\n",
       "Other       0.035818\n",
       "Brand_9     0.008261\n",
       "Brand_5     0.002832\n",
       "Brand_24    0.002242\n",
       "Name: Brand, dtype: float64"
      ]
     },
     "execution_count": 18,
     "metadata": {},
     "output_type": "execute_result"
    }
   ],
   "source": [
    "df['Brand'].value_counts(normalize=True).head()"
   ]
  },
  {
   "cell_type": "markdown",
   "metadata": {},
   "source": [
    "El 94% de los Items no tienen valor 'Brand'."
   ]
  },
  {
   "cell_type": "code",
   "execution_count": 19,
   "metadata": {},
   "outputs": [
    {
     "data": {
      "text/plain": [
       "None              15935\n",
       "Other               515\n",
       "Product_Type_3      179\n",
       "Product_Type_1      142\n",
       "Product_Type_0       94\n",
       "Name: Product_Type, dtype: int64"
      ]
     },
     "execution_count": 19,
     "metadata": {},
     "output_type": "execute_result"
    }
   ],
   "source": [
    "df['Product_Type'].value_counts().head()"
   ]
  },
  {
   "cell_type": "code",
   "execution_count": 20,
   "metadata": {},
   "outputs": [
    {
     "data": {
      "text/plain": [
       "None              0.940284\n",
       "Other             0.030389\n",
       "Product_Type_3    0.010562\n",
       "Product_Type_1    0.008379\n",
       "Product_Type_0    0.005547\n",
       "Name: Product_Type, dtype: float64"
      ]
     },
     "execution_count": 20,
     "metadata": {},
     "output_type": "execute_result"
    }
   ],
   "source": [
    "df['Product_Type'].value_counts(normalize=True).head()"
   ]
  },
  {
   "cell_type": "markdown",
   "metadata": {},
   "source": [
    "El 94% de los Items no tienen valor 'Product_Type'."
   ]
  },
  {
   "cell_type": "code",
   "execution_count": 21,
   "metadata": {},
   "outputs": [
    {
     "data": {
      "text/plain": [
       "None      15967\n",
       "Other       394\n",
       "Size_3      356\n",
       "Size_4      196\n",
       "Size_1       25\n",
       "Name: Size, dtype: int64"
      ]
     },
     "execution_count": 21,
     "metadata": {},
     "output_type": "execute_result"
    }
   ],
   "source": [
    "df['Size'].value_counts().head()"
   ]
  },
  {
   "cell_type": "code",
   "execution_count": 22,
   "metadata": {},
   "outputs": [
    {
     "data": {
      "text/plain": [
       "None      0.942173\n",
       "Other     0.023249\n",
       "Size_3    0.021007\n",
       "Size_4    0.011565\n",
       "Size_1    0.001475\n",
       "Name: Size, dtype: float64"
      ]
     },
     "execution_count": 22,
     "metadata": {},
     "output_type": "execute_result"
    }
   ],
   "source": [
    "df['Size'].value_counts(normalize=True).head()"
   ]
  },
  {
   "cell_type": "markdown",
   "metadata": {},
   "source": [
    "El 94% de los Items no tienen valor 'Size'."
   ]
  },
  {
   "cell_type": "code",
   "execution_count": 23,
   "metadata": {},
   "outputs": [
    {
     "data": {
      "text/plain": [
       "None                     15928\n",
       "Other                      523\n",
       "Product_Category_B_2        59\n",
       "Product_Category_B_12       51\n",
       "Product_Category_B_7        47\n",
       "Name: Product_Category_B, dtype: int64"
      ]
     },
     "execution_count": 23,
     "metadata": {},
     "output_type": "execute_result"
    }
   ],
   "source": [
    "df['Product_Category_B'].value_counts().head()"
   ]
  },
  {
   "cell_type": "code",
   "execution_count": 24,
   "metadata": {},
   "outputs": [
    {
     "data": {
      "text/plain": [
       "None                     0.939871\n",
       "Other                    0.030861\n",
       "Product_Category_B_2     0.003481\n",
       "Product_Category_B_12    0.003009\n",
       "Product_Category_B_7     0.002773\n",
       "Name: Product_Category_B, dtype: float64"
      ]
     },
     "execution_count": 24,
     "metadata": {},
     "output_type": "execute_result"
    }
   ],
   "source": [
    "df['Product_Category_B'].value_counts(normalize=True).head()"
   ]
  },
  {
   "cell_type": "markdown",
   "metadata": {},
   "source": [
    "El 94% de los Items no tienen valor 'Product_Category_B'."
   ]
  },
  {
   "cell_type": "code",
   "execution_count": 25,
   "metadata": {},
   "outputs": [
    {
     "data": {
      "text/plain": [
       "None    16052\n",
       "EUR       475\n",
       "USD       420\n",
       "Name: Currency, dtype: int64"
      ]
     },
     "execution_count": 25,
     "metadata": {},
     "output_type": "execute_result"
    }
   ],
   "source": [
    "df['Currency'].value_counts().head()"
   ]
  },
  {
   "cell_type": "code",
   "execution_count": 26,
   "metadata": {},
   "outputs": [
    {
     "data": {
      "text/plain": [
       "None    0.947188\n",
       "EUR     0.028029\n",
       "USD     0.024783\n",
       "Name: Currency, dtype: float64"
      ]
     },
     "execution_count": 26,
     "metadata": {},
     "output_type": "execute_result"
    }
   ],
   "source": [
    "df['Currency'].value_counts(normalize=True).head()"
   ]
  },
  {
   "cell_type": "markdown",
   "metadata": {},
   "source": [
    "El 95% de los Items no tienen valor 'Currency'."
   ]
  },
  {
   "cell_type": "markdown",
   "metadata": {},
   "source": [
    "Análisis de columnas númericas."
   ]
  },
  {
   "cell_type": "code",
   "execution_count": 27,
   "metadata": {},
   "outputs": [
    {
     "data": {
      "text/plain": [
       "12460    36\n",
       "2008     36\n",
       "5123     26\n",
       "6606     26\n",
       "2911     24\n",
       "         ..\n",
       "7482      1\n",
       "5435      1\n",
       "3400      1\n",
       "7498      1\n",
       "0         1\n",
       "Name: Opportunity_ID, Length: 9841, dtype: int64"
      ]
     },
     "execution_count": 27,
     "metadata": {},
     "output_type": "execute_result"
    }
   ],
   "source": [
    "df['Opportunity_ID'].value_counts()"
   ]
  },
  {
   "cell_type": "code",
   "execution_count": 28,
   "metadata": {},
   "outputs": [
    {
     "data": {
      "text/plain": [
       "0.38000    801\n",
       "0.40000    712\n",
       "0.36000    564\n",
       "0.42000    510\n",
       "0.39000    465\n",
       "          ... \n",
       "0.34730      1\n",
       "0.27400      1\n",
       "0.25300      1\n",
       "0.45789      1\n",
       "0.24400      1\n",
       "Name: ASP, Length: 301, dtype: int64"
      ]
     },
     "execution_count": 28,
     "metadata": {},
     "output_type": "execute_result"
    }
   ],
   "source": [
    "df['ASP'].value_counts()"
   ]
  },
  {
   "cell_type": "code",
   "execution_count": 29,
   "metadata": {},
   "outputs": [
    {
     "data": {
      "text/plain": [
       "0.38000    570\n",
       "0.40000    497\n",
       "0.36000    326\n",
       "0.39000    325\n",
       "0.00000    300\n",
       "          ... \n",
       "0.32365      1\n",
       "0.67868      1\n",
       "0.43820      1\n",
       "0.47300      1\n",
       "0.30567      1\n",
       "Name: ASP_(converted), Length: 441, dtype: int64"
      ]
     },
     "execution_count": 29,
     "metadata": {},
     "output_type": "execute_result"
    }
   ],
   "source": [
    "df['ASP_(converted)'].value_counts()"
   ]
  },
  {
   "cell_type": "code",
   "execution_count": 30,
   "metadata": {},
   "outputs": [
    {
     "data": {
      "text/plain": [
       "2017    6318\n",
       "2018    5830\n",
       "2016    4371\n",
       "2019     414\n",
       "2020      14\n",
       "Name: Delivery_Year, dtype: int64"
      ]
     },
     "execution_count": 30,
     "metadata": {},
     "output_type": "execute_result"
    }
   ],
   "source": [
    "df['Delivery_Year'].value_counts()"
   ]
  },
  {
   "cell_type": "code",
   "execution_count": 31,
   "metadata": {},
   "outputs": [
    {
     "data": {
      "text/plain": [
       "0      11971\n",
       "1       2192\n",
       "2        627\n",
       "3        354\n",
       "5        297\n",
       "       ...  \n",
       "51         1\n",
       "167        1\n",
       "163        1\n",
       "195        1\n",
       "165        1\n",
       "Name: TRF, Length: 101, dtype: int64"
      ]
     },
     "execution_count": 31,
     "metadata": {},
     "output_type": "execute_result"
    }
   ],
   "source": [
    "df['TRF'].value_counts()"
   ]
  },
  {
   "cell_type": "code",
   "execution_count": 32,
   "metadata": {},
   "outputs": [
    {
     "data": {
      "text/plain": [
       "0    0.706379\n",
       "1    0.129344\n",
       "2    0.036998\n",
       "3    0.020889\n",
       "5    0.017525\n",
       "Name: TRF, dtype: float64"
      ]
     },
     "execution_count": 32,
     "metadata": {},
     "output_type": "execute_result"
    }
   ],
   "source": [
    "df['TRF'].value_counts(normalize=True).head()"
   ]
  },
  {
   "cell_type": "markdown",
   "metadata": {},
   "source": [
    "El 70% de los Items tiene valor 'TRF' = '0'."
   ]
  },
  {
   "cell_type": "code",
   "execution_count": 33,
   "metadata": {},
   "outputs": [
    {
     "data": {
      "text/plain": [
       "6200.0        513\n",
       "4400.0        461\n",
       "18000.0       353\n",
       "140000.0      272\n",
       "1600.0        204\n",
       "             ... \n",
       "193600.0        1\n",
       "4972.8          1\n",
       "8001840.0       1\n",
       "12333750.0      1\n",
       "11960.0         1\n",
       "Name: Total_Amount, Length: 8872, dtype: int64"
      ]
     },
     "execution_count": 33,
     "metadata": {},
     "output_type": "execute_result"
    }
   ],
   "source": [
    "df['Total_Amount'].value_counts()"
   ]
  },
  {
   "cell_type": "code",
   "execution_count": 34,
   "metadata": {},
   "outputs": [
    {
     "data": {
      "text/plain": [
       "0.0           997\n",
       "588325.0       72\n",
       "109620.0       68\n",
       "488700.0       66\n",
       "413700.0       60\n",
       "             ... \n",
       "18698803.2      1\n",
       "27800800.0      1\n",
       "215.6           1\n",
       "12852000.0      1\n",
       "121837.5        1\n",
       "Name: Total_Taxable_Amount, Length: 7096, dtype: int64"
      ]
     },
     "execution_count": 34,
     "metadata": {},
     "output_type": "execute_result"
    }
   ],
   "source": [
    "df['Total_Taxable_Amount'].value_counts()"
   ]
  },
  {
   "cell_type": "code",
   "execution_count": 35,
   "metadata": {},
   "outputs": [
    {
     "data": {
      "text/plain": [
       "None    6973\n",
       "108       36\n",
       "479       36\n",
       "2575      18\n",
       "3877      16\n",
       "Name: Sales_Contract_No, dtype: int64"
      ]
     },
     "execution_count": 35,
     "metadata": {},
     "output_type": "execute_result"
    }
   ],
   "source": [
    "df['Sales_Contract_No'].value_counts().head()"
   ]
  },
  {
   "cell_type": "code",
   "execution_count": 36,
   "metadata": {},
   "outputs": [
    {
     "data": {
      "text/plain": [
       "None    0.411459\n",
       "108     0.002124\n",
       "479     0.002124\n",
       "2575    0.001062\n",
       "3877    0.000944\n",
       "Name: Sales_Contract_No, dtype: float64"
      ]
     },
     "execution_count": 36,
     "metadata": {},
     "output_type": "execute_result"
    }
   ],
   "source": [
    "df['Sales_Contract_No'].value_counts(normalize=True).head()"
   ]
  },
  {
   "cell_type": "code",
   "execution_count": 37,
   "metadata": {},
   "outputs": [
    {
     "data": {
      "text/plain": [
       "None     15982\n",
       "Other      609\n",
       "0.24        27\n",
       "0.41        22\n",
       "0.28        20\n",
       "Name: Price, dtype: int64"
      ]
     },
     "execution_count": 37,
     "metadata": {},
     "output_type": "execute_result"
    }
   ],
   "source": [
    "df['Price'].value_counts().head()"
   ]
  },
  {
   "cell_type": "code",
   "execution_count": 38,
   "metadata": {},
   "outputs": [
    {
     "data": {
      "text/plain": [
       "None     0.943058\n",
       "Other    0.035936\n",
       "0.24     0.001593\n",
       "0.41     0.001298\n",
       "0.28     0.001180\n",
       "Name: Price, dtype: float64"
      ]
     },
     "execution_count": 38,
     "metadata": {},
     "output_type": "execute_result"
    }
   ],
   "source": [
    "df['Price'].value_counts(normalize=True).head()"
   ]
  },
  {
   "cell_type": "markdown",
   "metadata": {},
   "source": [
    "El 94% de los Items no tienen valor 'Price'."
   ]
  },
  {
   "cell_type": "code",
   "execution_count": null,
   "metadata": {},
   "outputs": [],
   "source": []
  },
  {
   "cell_type": "code",
   "execution_count": null,
   "metadata": {},
   "outputs": [],
   "source": []
  }
 ],
 "metadata": {
  "kernelspec": {
   "display_name": "Python 3",
   "language": "python",
   "name": "python3"
  },
  "language_info": {
   "codemirror_mode": {
    "name": "ipython",
    "version": 3
   },
   "file_extension": ".py",
   "mimetype": "text/x-python",
   "name": "python",
   "nbconvert_exporter": "python",
   "pygments_lexer": "ipython3",
   "version": "3.7.6"
  }
 },
 "nbformat": 4,
 "nbformat_minor": 4
}
